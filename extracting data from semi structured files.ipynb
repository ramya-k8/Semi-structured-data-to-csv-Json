{
 "cells": [
  {
   "cell_type": "code",
   "execution_count": 2,
   "metadata": {},
   "outputs": [],
   "source": [
    "#Import required libraries\n",
    "#Import re so that we can use regular expression to capture the data\n",
    "import re\n",
    "#Import pandas to store the extracted data into a DataFrame and then convert that dataframe into whatever format we want\n",
    "import pandas as pd"
   ]
  },
  {
   "cell_type": "markdown",
   "metadata": {},
   "source": [
    "## 3. Load the Data"
   ]
  },
  {
   "cell_type": "code",
   "execution_count": 3,
   "metadata": {},
   "outputs": [
    {
     "data": {
      "text/plain": [
       "'<?xml version=\"1.0\" encoding=\"UTF-8\"?>\\n<us-patent-grant lang=\"EN\" dtd-version=\"v4.5 2014-04-03\" file'"
      ]
     },
     "execution_count": 3,
     "metadata": {},
     "output_type": "execute_result"
    }
   ],
   "source": [
    "file = open('inp.txt','r') #File is opened in read mode\n",
    "text = file.read()  # Content of the file is read into a variable text\n",
    "file.close() #close the file as it is not needed anymore\n",
    "text[0:100] #Check the first line of the file to see what we are dealing with"
   ]
  },
  {
   "cell_type": "markdown",
   "metadata": {},
   "source": [
    "Below 9 lists are created to store the data extracted from the given input file so as to create the required 9 columns as per the question"
   ]
  },
  {
   "cell_type": "code",
   "execution_count": 3,
   "metadata": {},
   "outputs": [],
   "source": [
    "#Initialize the lists we are going to use for storing the extracted data\n",
    "grant_id = []\n",
    "patent_title = []\n",
    "kind = []\n",
    "number_of_claims = []\n",
    "inventors = []\n",
    "citations_applicant_count = []\n",
    "citatons_examiner_count = []\n",
    "claims_text = []\n",
    "abstract = []"
   ]
  },
  {
   "cell_type": "markdown",
   "metadata": {},
   "source": [
    "The main part from which data related to the columns can be extracted is found using the below regex. It is then stored as a list of strings. Each element in the list contains informations pertaining to a single patent, that way we can can iterate through each patent and systematically append the relevant information to their corresponding list."
   ]
  },
  {
   "cell_type": "code",
   "execution_count": 4,
   "metadata": {},
   "outputs": [],
   "source": [
    "#Partitioning the file by patent i.e each list element will be a single patent\n",
    "patents = re.findall('(?s)<us-patent-grant(.*?)/claims',text)"
   ]
  },
  {
   "cell_type": "markdown",
   "metadata": {},
   "source": [
    "### Extracting grant_id"
   ]
  },
  {
   "cell_type": "markdown",
   "metadata": {},
   "source": [
    "Using the for loop,we iterate through each patent and use the regex below to extract the grant id. The regex is \"doc-number>(.*)</\" which means to select all the data after 'doc-number>' and '</' in the data that is stored in the patent variable. \n",
    "Grant id consists of the country and the ID number. We use regex to find the country aswell and concatenate to the ID number.\n",
    "Grantid is is then stored in the list grant_id."
   ]
  },
  {
   "cell_type": "code",
   "execution_count": 5,
   "metadata": {
    "scrolled": true
   },
   "outputs": [],
   "source": [
    "#iterate through each patent\n",
    "for patent in patents:\n",
    "    #The regex and code below concatenates the first occurrences of country and document number into one string\n",
    "    doc_num = re.search('<country>(.*)</country>', patent).group(1) + re.search('doc-number>(.*)</', patent).group(1)\n",
    "    #append result to the list\n",
    "    grant_id.append(doc_num)"
   ]
  },
  {
   "cell_type": "markdown",
   "metadata": {},
   "source": [
    "### Extracting patent_title"
   ]
  },
  {
   "cell_type": "markdown",
   "metadata": {},
   "source": [
    "Using the for loop, we iterate through each patent and use the regex below to extract the patent title. The regex is \">(.*)</in\" which looks for the inventor title in the data that is in patent variable.\n",
    "Patent_title is then stored in the list patent_title."
   ]
  },
  {
   "cell_type": "code",
   "execution_count": 6,
   "metadata": {
    "scrolled": true
   },
   "outputs": [],
   "source": [
    "#iterate through the list \n",
    "for patent in patents:\n",
    "    #regex to find the first occurrence of the title\n",
    "    title = re.search('>(.*)</in', patent).group(1)\n",
    "    #append title to the list\n",
    "    patent_title.append(title)"
   ]
  },
  {
   "cell_type": "markdown",
   "metadata": {},
   "source": [
    "### Extracting Patent kind"
   ]
  },
  {
   "cell_type": "markdown",
   "metadata": {},
   "source": [
    "Using the for loop,we iterate through each patent and use the regex below to extract the patent kind. The regex is \">(.*)</kind\" which looks for the kinds of patents. There are 6 kinds of patents : B1, B2, E1, P2, P3 and S1.\n",
    "\n",
    "And each kind referes to: \n",
    "\n",
    "B1 :Utility Patent Grant (no published application) issued on or after January 2, 2001.\n",
    "\n",
    "B2 :Utility Patent Grant (with a published application) issued on or after January 2, 2001.\n",
    "\n",
    "E1 :Reissue Patent\n",
    "\n",
    "P2 :Plant Patent Grant (no published application) issued on or after January 2, 2001\n",
    "\n",
    "P3 :Plant Patent Grant (with a published application) issued on or after January 2, 2001\n",
    "\n",
    "S1 :Design Patent\n",
    "\n",
    "If you look closely at the structure of the data above, you will notice that it looks like a dictionary. We will we be using the same to for the information extraction as it is the most efficient method."
   ]
  },
  {
   "cell_type": "code",
   "execution_count": 7,
   "metadata": {
    "scrolled": true
   },
   "outputs": [],
   "source": [
    "#Create the dictionary to use as the patent code reference\n",
    "#Note: this dictionary was created using the sample input as the ground truth\n",
    "kind_ref = {'B1':'Utility Patent Grant (no published application) issued on or after January 2, 2001.',\n",
    "            'B2':'Utility Patent Grant (with a published application) issued on or after January 2, 2001.',\n",
    "            'E1':'Reissue Patent',\n",
    "            'P2':'Plant Patent Grant (no published application) issued on or after January 2, 2001',\n",
    "            'P3':'Plant Patent Grant (with a published application) issued on or after January 2, 2001',\n",
    "            'S1':'Design Patent'\n",
    "           }\n",
    "#iterate through the patents\n",
    "for patent in patents:\n",
    "    #Regex to get the first occurrence of the patent kind code\n",
    "    kind_code = re.search('>(.*)</kind', patent).group(1)\n",
    "    #Append the code reference using the dictionary from earlier\n",
    "    kind.append(kind_ref[kind_code])"
   ]
  },
  {
   "cell_type": "markdown",
   "metadata": {},
   "source": [
    "### Extracting the number_of_claims"
   ]
  },
  {
   "cell_type": "markdown",
   "metadata": {},
   "source": [
    "Using the for loop,we iterate through each patent and use the regex below to extract the number of claims. The regex is \"<claim id\" which looks for the data that gives the number of claims. It is then stored in the list number_of_claims."
   ]
  },
  {
   "cell_type": "code",
   "execution_count": 8,
   "metadata": {},
   "outputs": [],
   "source": [
    "#Iterate through the patents\n",
    "for patent in patents:\n",
    "    #count the number of times claim ID occurs\n",
    "    num_cl = len(re.findall('<claim id', patent))\n",
    "    #append the result to the list\n",
    "    number_of_claims.append(num_cl)"
   ]
  },
  {
   "cell_type": "markdown",
   "metadata": {},
   "source": [
    "### Extracting inventors"
   ]
  },
  {
   "cell_type": "markdown",
   "metadata": {},
   "source": [
    "Using the for loop,we iterate through each patent and use the regex below to extract the names of the inventors. The regex is \"(?s)<inventors>(.*?)</inventors>\" which looks for the data regarding inventors. The names are given in the format of first name and last name for each inventor. Hence, the first name is extracted using the regex \"first-name>(.*)</first-name>\" and the last name is extracted by using \"<last-name>(.*)</last-name>\". The first and last name are combined using a for loop. It is then stored in the list \"inventors\"."
   ]
  },
  {
   "cell_type": "code",
   "execution_count": 9,
   "metadata": {},
   "outputs": [],
   "source": [
    "#Iterate through the patents\n",
    "for patent in patents:\n",
    "    #initialize the list of names in each patent\n",
    "    name_list = []\n",
    "    #Capture all the names of the inventors\n",
    "    invent = re.search('(?s)<inventors>(.*?)</inventors>', patent)\n",
    "    if invent == None:\n",
    "        #Append 'NA' if no inventors\n",
    "        name_string = 'NA'\n",
    "    else:\n",
    "        invent = invent.group(1)\n",
    "        #Store the lastnames\n",
    "        last_name = re.findall('<last-name>(.*)</last-name>',invent)\n",
    "        #Store the first names\n",
    "        first_name = re.findall('<first-name>(.*)</first-name>',invent)\n",
    "        for i in range(len(first_name)):\n",
    "            #Concatenate the corresponding names\n",
    "            name_list.append(first_name[i] + ' ' + last_name[i])\n",
    "        #Convert name list to string of appropriate format\n",
    "        name_string = '['\n",
    "        for name in name_list:\n",
    "            name_string += name + ','\n",
    "        name_string = name_string[:-1]\n",
    "        name_string += ']'\n",
    "    #append result\n",
    "    inventors.append(name_string)"
   ]
  },
  {
   "cell_type": "markdown",
   "metadata": {},
   "source": [
    "### Extracting citations_applicant_count and citations_examiner_count\n",
    "\n"
   ]
  },
  {
   "cell_type": "markdown",
   "metadata": {},
   "source": [
    "Using the for loop,we iterate through each patent and use the regex below to extract the citations_applicant_count and citatons_examiner_count . The regex is \"cited by applicant\" which looks for the data about the citation. Then the number of such citations are counted using the len command. It is then stored in the \"citations_applicant_count\" list. Similarly, the regex \"cited by examiner\" is used to look for the data about the citation by examiner. Then the number of such citations are counted using the len command. It is then stored in the \"citatons_examiner_count\" list."
   ]
  },
  {
   "cell_type": "code",
   "execution_count": 10,
   "metadata": {},
   "outputs": [],
   "source": [
    "#Iterate through patents\n",
    "for patent in patents:\n",
    "    #Count occurrences of 'cited by applicant'\n",
    "    num_ci_app = len(re.findall('cited by applicant', patent))\n",
    "    #Count occurrences of 'cited by examiner'\n",
    "    num_ci_exam = len(re.findall('cited by examiner', patent))\n",
    "    #Append results to their approprite list\n",
    "    citations_applicant_count.append(num_ci_app)\n",
    "    citatons_examiner_count.append(num_ci_exam)"
   ]
  },
  {
   "cell_type": "markdown",
   "metadata": {},
   "source": [
    "### Extracting claims_text"
   ]
  },
  {
   "cell_type": "markdown",
   "metadata": {},
   "source": [
    "Using the for loop,we iterate through each patent and use the regex below to extract the claims_text. The regex is \"(?s)<claim (.*?)</claim>\" which looks for the data about the claim. If-else is used to verify if there are any claims for each patent in the data file. If a patent does not have any claim then 'NA' is stored in the claims_text list. If claim is present for the patent, then a for loop is used to combine the data on different lines into one string by using the re.sub commmand to remove the newline characters and hence merge the text from different lines into one paragraph. It is then stored in the claims_text list."
   ]
  },
  {
   "cell_type": "code",
   "execution_count": 11,
   "metadata": {},
   "outputs": [],
   "source": [
    "#Iterate through patents\n",
    "for patent in patents:\n",
    "    #capture all the text in the claim section\n",
    "    claim_list = []\n",
    "    claims = re.findall('(?s)<claim (.*?)</claim>', patent)\n",
    "    if claims == None :\n",
    "        #print 'NA' if no claims\n",
    "        claims_string = 'NA'\n",
    "    else:\n",
    "        #Iterate thourgh each claim\n",
    "        for claim in claims:\n",
    "            #Remove xml tags and line breaks\n",
    "            claim = re.sub('<.*?>', '', claim)\n",
    "            claim = re.sub('.*>', '', claim)\n",
    "            claim = re.sub('\\n', '', claim)\n",
    "            #remove all unwanted spaces\n",
    "            claim = \" \".join(claim.split())\n",
    "            #Append clean claim to list\n",
    "            claim_list.append(claim)\n",
    "        #Convert all the claims to a single string format within []\n",
    "        claim_string = '['\n",
    "        for claim in claim_list:\n",
    "            claim_string += claim + ','\n",
    "        claim_string = claim_string[:-1]\n",
    "        claim_string += ']'\n",
    "    #append result to final list\n",
    "    claims_text.append(claim_string)"
   ]
  },
  {
   "cell_type": "markdown",
   "metadata": {},
   "source": [
    "### Extracting abstact"
   ]
  },
  {
   "cell_type": "markdown",
   "metadata": {},
   "source": [
    "Using the for loop,we iterate through each patent and use the regex below to extract the names of the inventors. The regex is \"(?s)<abstract(.*?)</abstract>\" which looks for the data regarding abstacts. If- else is used to check if each patent has an abstract or no. If there is no abstract, 'NA' is stored in the abstract list for that patent. If there is abstract, then the re.sub command is used to combine the text from different lines into one string by replacing the newline character by a space. It is then stored in the list 'abstract'."
   ]
  },
  {
   "cell_type": "code",
   "execution_count": 12,
   "metadata": {},
   "outputs": [],
   "source": [
    "#Iterate through patents\n",
    "for patent in patents:\n",
    "    #Caoture all text in the abstract section\n",
    "    abstracts = re.search('(?s)<abstract(.*?)</abstract>', patent)\n",
    "    if abstracts == None:\n",
    "        #Return 'NA' if no abstract\n",
    "        abstracts = 'NA'\n",
    "    else :\n",
    "        abstracts = abstracts.group(1)\n",
    "        #Remove xml tags and linebreaks\n",
    "        abstracts = re.sub('<.*?>', '', abstracts)\n",
    "        abstracts = re.sub('.*>', '', abstracts)\n",
    "        abstracts = re.sub('\\n', '', abstracts)\n",
    "        #Remove unecessary spaces\n",
    "        abstracts = \" \".join(abstracts.split())\n",
    "    #Append to list\n",
    "    abstract.append(abstracts)"
   ]
  },
  {
   "cell_type": "markdown",
   "metadata": {},
   "source": [
    "### Creating a dataframe"
   ]
  },
  {
   "cell_type": "markdown",
   "metadata": {},
   "source": [
    "The lists are zipped and then a list is created which is passed onto the pd.dataframe function to create a new dataframe. The column names are specified as per the column names mentioned in the question."
   ]
  },
  {
   "cell_type": "code",
   "execution_count": 13,
   "metadata": {},
   "outputs": [],
   "source": [
    "#zip everything together so that we can conver the data into a single dataframe\n",
    "zippedList =  list(zip(grant_id, patent_title, kind, number_of_claims, inventors, citations_applicant_count, citatons_examiner_count, claims_text, abstract))\n",
    "#Convert the zipped data into a Dataframe with appropriate column headers\n",
    "csv_df = pd.DataFrame(zippedList, columns = ['grant_id' , 'patent_title', 'kind', 'number_of_claims', 'inventors', 'citations_applicant_count', 'citations_examiner_count', 'claims_text', 'abstract'])\n"
   ]
  },
  {
   "cell_type": "markdown",
   "metadata": {},
   "source": [
    "### CSV file from the dataframe"
   ]
  },
  {
   "cell_type": "code",
   "execution_count": 14,
   "metadata": {},
   "outputs": [],
   "source": [
    "#Convert the data frame to CSV format\n",
    "csv_df.to_csv('155.csv', index = False)"
   ]
  },
  {
   "cell_type": "markdown",
   "metadata": {},
   "source": [
    "### Generating a JSON file from the dataframe\n",
    "\n",
    "To convert the data into JSON format we simply iterate throug each patent and concatenate the information into one large string variable in the format of a JSON file and then save the string to a file"
   ]
  },
  {
   "cell_type": "code",
   "execution_count": 15,
   "metadata": {},
   "outputs": [
    {
     "data": {
      "text/plain": [
       "<function TextIOWrapper.close()>"
      ]
     },
     "execution_count": 15,
     "metadata": {},
     "output_type": "execute_result"
    }
   ],
   "source": [
    "#open file for writing the data to json format\n",
    "f = open(\"155.json\",\"w+\")\n",
    "#Convert all the data to a single string variable\n",
    "#Note: This format is in accordance to the ground truth which is the sample output provided\n",
    "#Intialize string variable\n",
    "json_output = '{'\n",
    "#Iterate through all the data elements\n",
    "for i in range(len(grant_id)):\n",
    "    json_output += '\"' + grant_id[i] + '\":{'\n",
    "    json_output += '\"' + 'patent_title' + '\":\"' + patent_title[i] + '\",'\n",
    "    json_output += '\"' + 'kind' + '\":\"' + kind[i] + '\",'\n",
    "    json_output += '\"' + 'number_of_claims' + '\":' + str(number_of_claims[i]) + ','\n",
    "    json_output += '\"' + 'inventors' + '\":\"' + inventors[i] + '\",'\n",
    "    json_output += '\"' + 'citations_applicant_count' + '\":' + str(citations_applicant_count[i]) + ','\n",
    "    json_output += '\"' + 'citations_examiner_count' + '\":' + str(citatons_examiner_count[i]) + ','\n",
    "    json_output += '\"' + 'claims_text' + '\":\"' + claims_text[i] + '\",'\n",
    "    json_output += '\"' + 'abstract' + '\":\"' + abstract[i] + '\"},'\n",
    "#Remove unecessary ','\n",
    "json_output = json_output[:-1]\n",
    "#End the Json file\n",
    "json_output += '}'\n",
    "#Properly escape all the '/'\n",
    "json_output = re.sub('/','\\\\\\\\/', json_output)\n",
    "#Write string variable intp the file\n",
    "f.write(json_output)\n",
    "#Flush the file so that the output buffer writes everything to the file\n",
    "f.flush()\n",
    "#Close the file\n",
    "f.close"
   ]
  }
 ],
 "metadata": {
  "kernelspec": {
   "display_name": "Python 3",
   "language": "python",
   "name": "python3"
  },
  "language_info": {
   "codemirror_mode": {
    "name": "ipython",
    "version": 3
   },
   "file_extension": ".py",
   "mimetype": "text/x-python",
   "name": "python",
   "nbconvert_exporter": "python",
   "pygments_lexer": "ipython3",
   "version": "3.6.5"
  }
 },
 "nbformat": 4,
 "nbformat_minor": 2
}
